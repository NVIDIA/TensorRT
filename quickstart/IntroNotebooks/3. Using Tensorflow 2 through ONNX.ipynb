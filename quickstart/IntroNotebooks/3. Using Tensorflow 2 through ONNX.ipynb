{
 "cells": [
  {
   "cell_type": "markdown",
   "metadata": {},
   "source": [
    "# Using Tensorflow through ONNX:\n",
    "\n",
    "The ONNX path to getting a TensorRT engine is a high-performance approach to TensorRT conversion that works with a variety of frameworks - including Tensorflow and Tensorflow 2.\n",
    "\n",
    "TensorRT's ONNX parser is an all-or-nothing parser for ONNX models that ensures an optimal, single TensorRT engine and is great for exporting to the TensorRT API runtimes. ONNX models can be easily generated from Tensorflow models using the ONNX project's keras2onnx and tf2onnx tools.\n",
    "\n",
    "In this notebook we will take a look at how ONNX models can be generated from a Keras/TF2 ResNet50 model, how we can convert those ONNX models to TensorRT engines using trtexec, and finally how we can use the native Python TensorRT runtime to feed a batch of data into the TRT engine at inference time.\n",
    "\n",
    "Essentially, we will follow this path to convert and deploy our model:\n",
    "\n",
    "![Tensorflow+ONNX](./images/tf_onnx.png)\n",
    "\n",
    "__Use this when:__\n",
    "- You want the most efficient runtime performance possible out of an automatic parser\n",
    "- You have a network consisting of mostly supported operations -  including operations and layers that the ONNX parser uniquely supports (Such as RNNs/LSTMs/GRUs)\n",
    "- You are willing to write custom C++ plugins for any unsupported operations (if your network has any)\n",
    "- You do not want to use the manual layer builder API"
   ]
  },
  {
   "cell_type": "markdown",
   "metadata": {},
   "source": [
    "__Checking your GPU status:__\n",
    "\n",
    "Lets see what GPU hardware we are working with. Our hardware can matter a lot because different cards have different performance profiles and precisions they tend to operate best in. For example, a V100 is relatively strong as FP16 processing vs a T4, which tends to operate best in the INT8 mode."
   ]
  },
  {
   "cell_type": "code",
   "execution_count": 1,
   "metadata": {
    "colab": {
     "base_uri": "https://localhost:8080/",
     "height": 377
    },
    "id": "IJBfZsGo8yaV",
    "outputId": "f4c4e20d-fcfd-43a2-b10d-c6978c25c91f"
   },
   "outputs": [
    {
     "name": "stdout",
     "output_type": "stream",
     "text": [
      "Wed Jun  9 19:47:48 2021       \n",
      "+-----------------------------------------------------------------------------+\n",
      "| NVIDIA-SMI 450.80.02    Driver Version: 450.80.02    CUDA Version: 11.3     |\n",
      "|-------------------------------+----------------------+----------------------+\n",
      "| GPU  Name        Persistence-M| Bus-Id        Disp.A | Volatile Uncorr. ECC |\n",
      "| Fan  Temp  Perf  Pwr:Usage/Cap|         Memory-Usage | GPU-Util  Compute M. |\n",
      "|                               |                      |               MIG M. |\n",
      "|===============================+======================+======================|\n",
      "|   0  Tesla V100-DGXS...  On   | 00000000:07:00.0 Off |                    0 |\n",
      "| N/A   45C    P0    63W / 300W |   5572MiB / 16155MiB |      0%      Default |\n",
      "|                               |                      |                  N/A |\n",
      "+-------------------------------+----------------------+----------------------+\n",
      "|   1  Tesla V100-DGXS...  On   | 00000000:08:00.0 Off |                    0 |\n",
      "| N/A   44C    P0    41W / 300W |      9MiB / 16158MiB |      0%      Default |\n",
      "|                               |                      |                  N/A |\n",
      "+-------------------------------+----------------------+----------------------+\n",
      "|   2  Tesla V100-DGXS...  On   | 00000000:0E:00.0 Off |                    0 |\n",
      "| N/A   43C    P0    41W / 300W |      9MiB / 16158MiB |      0%      Default |\n",
      "|                               |                      |                  N/A |\n",
      "+-------------------------------+----------------------+----------------------+\n",
      "|   3  Tesla V100-DGXS...  On   | 00000000:0F:00.0 Off |                    0 |\n",
      "| N/A   44C    P0    39W / 300W |      9MiB / 16158MiB |      0%      Default |\n",
      "|                               |                      |                  N/A |\n",
      "+-------------------------------+----------------------+----------------------+\n",
      "                                                                               \n",
      "+-----------------------------------------------------------------------------+\n",
      "| Processes:                                                                  |\n",
      "|  GPU   GI   CI        PID   Type   Process name                  GPU Memory |\n",
      "|        ID   ID                                                   Usage      |\n",
      "|=============================================================================|\n",
      "+-----------------------------------------------------------------------------+\n"
     ]
    }
   ],
   "source": [
    "!nvidia-smi"
   ]
  },
  {
   "cell_type": "markdown",
   "metadata": {},
   "source": [
    "Remember to sucessfully deploy a TensorRT model, you have to make __five key decisions__:\n",
    "\n",
    "1. __What format should I save my model in?__\n",
    "2. __What batch size(s) am I running inference at?__\n",
    "3. __What precision am I running inference at?__\n",
    "4. __What TensorRT path am I using to convert my model?__\n",
    "5. __What runtime am I targeting?__"
   ]
  },
  {
   "cell_type": "markdown",
   "metadata": {},
   "source": [
    "## 1. What format should I save my model in?"
   ]
  },
  {
   "cell_type": "markdown",
   "metadata": {},
   "source": [
    "Our first step is to load up a pretrained ResNet50 model. This can be done easily using keras.applications - a collection of pretrained image model classifiers that can additionally be used as backbones for detection and other deep learning problems.\n",
    "\n",
    "We can load up a pretrained classifier with batch size 32 as follows:"
   ]
  },
  {
   "cell_type": "code",
   "execution_count": 2,
   "metadata": {
    "id": "iVRVItvR8quS"
   },
   "outputs": [],
   "source": [
    "from tensorflow.keras.applications import ResNet50\n",
    "\n",
    "BATCH_SIZE = 32"
   ]
  },
  {
   "cell_type": "code",
   "execution_count": 3,
   "metadata": {
    "id": "cKT07xPV8qua"
   },
   "outputs": [],
   "source": [
    "model = ResNet50(weights='imagenet')"
   ]
  },
  {
   "cell_type": "markdown",
   "metadata": {},
   "source": [
    "For the purposes of checking our non-optimized model, we can use a dummy batch of data to verify our performance and the consistency of our results across precisions. 224x224 RGB images are a common  format, so lets generate a batch of them.\n",
    "\n",
    "Once we generate a batch of them, we will feed it through the model using .predict() to \"warm up\" the model. The first batch you feed through a deep learning model often takes a lot longer as just-in-time compilation and other runtime optimizations are performed. Once you get that first batch through, further performance tends to be more consistent.\n",
    "\n",
    "To create a test batch, we will simply repeat one open-source dog image from http://www.dog.ceo"
   ]
  },
  {
   "cell_type": "code",
   "execution_count": 4,
   "metadata": {},
   "outputs": [
    {
     "data": {
      "text/plain": [
       "(32, 224, 224, 3)"
      ]
     },
     "execution_count": 4,
     "metadata": {},
     "output_type": "execute_result"
    }
   ],
   "source": [
    "import numpy as np\n",
    "from skimage import io\n",
    "from skimage.transform import resize\n",
    "from matplotlib import pyplot as plt\n",
    "\n",
    "url='https://images.dog.ceo/breeds/retriever-golden/n02099601_3004.jpg'\n",
    "img = resize(io.imread(url), (224, 224))\n",
    "input_batch = 255*np.array(np.repeat(np.expand_dims(np.array(img, dtype=np.float32), axis=0), BATCH_SIZE, axis=0), dtype=np.float32)\n",
    "\n",
    "input_batch.shape"
   ]
  },
  {
   "cell_type": "code",
   "execution_count": 5,
   "metadata": {},
   "outputs": [
    {
     "data": {
      "text/plain": [
       "<matplotlib.image.AxesImage at 0x7fd3a009bf70>"
      ]
     },
     "execution_count": 5,
     "metadata": {},
     "output_type": "execute_result"
    },
    {
     "data": {
      "image/png": "[encoded data removed]",
      "text/plain": [
       "<Figure size 432x288 with 1 Axes>"
      ]
     },
     "metadata": {
      "needs_background": "light"
     },
     "output_type": "display_data"
    }
   ],
   "source": [
    "plt.imshow(input_batch[0]/255)"
   ]
  },
  {
   "cell_type": "markdown",
   "metadata": {},
   "source": [
    "The image above is a Golden Retriever, class 207 in ImageNet. So we look for class 207  in the top 5 predictions to verify our model works as intended:"
   ]
  },
  {
   "cell_type": "code",
   "execution_count": 6,
   "metadata": {},
   "outputs": [
    {
     "name": "stdout",
     "output_type": "stream",
     "text": [
      "Class | Probability (out of 1)\n"
     ]
    },
    {
     "data": {
      "text/plain": [
       "[(160, 0.32290387),\n",
       " (169, 0.266499),\n",
       " (212, 0.16812354),\n",
       " (170, 0.07066823),\n",
       " (207, 0.03341851)]"
      ]
     },
     "execution_count": 6,
     "metadata": {},
     "output_type": "execute_result"
    }
   ],
   "source": [
    "predictions = model.predict(input_batch) # warm up\n",
    "indices = (-predictions[0]).argsort()[:5]\n",
    "print(\"Class | Probability (out of 1)\")\n",
    "list(zip(indices, predictions[0][indices]))"
   ]
  },
  {
   "cell_type": "markdown",
   "metadata": {},
   "source": [
    "Labels 150 to 275 or so are dogs in ImageNet, so look for those as other common predictions in addition to our correct 207 class."
   ]
  },
  {
   "cell_type": "markdown",
   "metadata": {},
   "source": [
    "__Baseline Timing:__\n",
    "\n",
    "Once we have warmed up our non-optimized model, we can get a rough timing estimate of our model using %%timeit, which runs the cell several times and reports timing information.\n",
    "\n",
    "Lets take a look at how long our model takes to run at baseline before doing any TensorRT optimization:"
   ]
  },
  {
   "cell_type": "code",
   "execution_count": 7,
   "metadata": {
    "colab": {
     "base_uri": "https://localhost:8080/",
     "height": 85
    },
    "id": "eMu3dZlM96bh",
    "outputId": "537a88e2-ad7d-413a-f815-abd91f010e21"
   },
   "outputs": [
    {
     "name": "stdout",
     "output_type": "stream",
     "text": [
      "46.8 ms ± 514 µs per loop (mean ± std. dev. of 7 runs, 1 loop each)\n"
     ]
    }
   ],
   "source": [
    "%%timeit\n",
    "\n",
    "result = model.predict_on_batch(input_batch) # Check default performance"
   ]
  },
  {
   "cell_type": "markdown",
   "metadata": {},
   "source": [
    "Okay - now that we have a baseline model, lets convert it to the format TensorRT understands best: ONNX. "
   ]
  },
  {
   "cell_type": "markdown",
   "metadata": {},
   "source": [
    "__Convert Keras model to ONNX intermediate model and save:__"
   ]
  },
  {
   "cell_type": "markdown",
   "metadata": {},
   "source": [
    "The ONNX format is a framework-agnostic way of describing and saving the structure and state of deep learning models. We can convert Tensorflow 2 Keras models to ONNX using the keras2onnx tool provided by the ONNX project. (You can find the ONNX project here: https://onnx.ai or on GitHub here: https://github.com/onnx/onnx)"
   ]
  },
  {
   "cell_type": "code",
   "execution_count": 8,
   "metadata": {
    "id": "aG3tXUEx8quf"
   },
   "outputs": [],
   "source": [
    "import onnx, keras2onnx"
   ]
  },
  {
   "cell_type": "markdown",
   "metadata": {},
   "source": [
    "Converting a model with default parameters to an ONNX model is fairly straightforward:"
   ]
  },
  {
   "cell_type": "code",
   "execution_count": 9,
   "metadata": {
    "colab": {
     "base_uri": "https://localhost:8080/",
     "height": 68
    },
    "id": "QxLAvWp68quk",
    "outputId": "d750962a-d098-4a63-c195-c3442211cdc1"
   },
   "outputs": [
    {
     "name": "stdout",
     "output_type": "stream",
     "text": [
      "INFO:tensorflow:Assets written to: my_model/assets\n",
      "2021-06-09 19:48:30.462380: I tensorflow/stream_executor/platform/default/dso_loader.cc:49] Successfully opened dynamic library libcudart.so.11.0\n",
      "/usr/lib/python3.8/runpy.py:127: RuntimeWarning: 'tf2onnx.convert' found in sys.modules after import of package 'tf2onnx', but prior to execution of 'tf2onnx.convert'; this may result in unpredictable behaviour\n",
      "  warn(RuntimeWarning(msg))\n",
      "2021-06-09 19:48:31.938818: I tensorflow/compiler/jit/xla_cpu_device.cc:41] Not creating XLA devices, tf_xla_enable_xla_devices not set\n",
      "2021-06-09 19:48:31.939684: I tensorflow/stream_executor/platform/default/dso_loader.cc:49] Successfully opened dynamic library libcuda.so.1\n",
      "2021-06-09 19:48:32.010614: I tensorflow/core/common_runtime/gpu/gpu_device.cc:1747] Found device 0 with properties: \n",
      "pciBusID: 0000:07:00.0 name: Tesla V100-DGXS-16GB computeCapability: 7.0\n",
      "coreClock: 1.53GHz coreCount: 80 deviceMemorySize: 15.78GiB deviceMemoryBandwidth: 836.37GiB/s\n",
      "2021-06-09 19:48:32.011850: I tensorflow/core/common_runtime/gpu/gpu_device.cc:1747] Found device 1 with properties: \n",
      "pciBusID: 0000:08:00.0 name: Tesla V100-DGXS-16GB computeCapability: 7.0\n",
      "coreClock: 1.53GHz coreCount: 80 deviceMemorySize: 15.78GiB deviceMemoryBandwidth: 836.37GiB/s\n",
      "2021-06-09 19:48:32.013128: I tensorflow/core/common_runtime/gpu/gpu_device.cc:1747] Found device 2 with properties: \n",
      "pciBusID: 0000:0e:00.0 name: Tesla V100-DGXS-16GB computeCapability: 7.0\n",
      "coreClock: 1.53GHz coreCount: 80 deviceMemorySize: 15.78GiB deviceMemoryBandwidth: 836.37GiB/s\n",
      "2021-06-09 19:48:32.014344: I tensorflow/core/common_runtime/gpu/gpu_device.cc:1747] Found device 3 with properties: \n",
      "pciBusID: 0000:0f:00.0 name: Tesla V100-DGXS-16GB computeCapability: 7.0\n",
      "coreClock: 1.53GHz coreCount: 80 deviceMemorySize: 15.78GiB deviceMemoryBandwidth: 836.37GiB/s\n",
      "2021-06-09 19:48:32.014373: I tensorflow/stream_executor/platform/default/dso_loader.cc:49] Successfully opened dynamic library libcudart.so.11.0\n",
      "2021-06-09 19:48:32.019097: I tensorflow/stream_executor/platform/default/dso_loader.cc:49] Successfully opened dynamic library libcublas.so.11\n",
      "2021-06-09 19:48:32.019146: I tensorflow/stream_executor/platform/default/dso_loader.cc:49] Successfully opened dynamic library libcublasLt.so.11\n",
      "2021-06-09 19:48:32.020281: I tensorflow/stream_executor/platform/default/dso_loader.cc:49] Successfully opened dynamic library libcufft.so.10\n",
      "2021-06-09 19:48:32.020567: I tensorflow/stream_executor/platform/default/dso_loader.cc:49] Successfully opened dynamic library libcurand.so.10\n",
      "2021-06-09 19:48:32.021254: I tensorflow/stream_executor/platform/default/dso_loader.cc:49] Successfully opened dynamic library libcusolver.so.11\n",
      "2021-06-09 19:48:32.022280: I tensorflow/stream_executor/platform/default/dso_loader.cc:49] Successfully opened dynamic library libcusparse.so.11\n",
      "2021-06-09 19:48:32.022445: I tensorflow/stream_executor/platform/default/dso_loader.cc:49] Successfully opened dynamic library libcudnn.so.8\n",
      "2021-06-09 19:48:32.030879: I tensorflow/core/common_runtime/gpu/gpu_device.cc:1889] Adding visible gpu devices: 0, 1, 2, 3\n",
      "2021-06-09 19:48:32.032680: I tensorflow/compiler/jit/xla_gpu_device.cc:99] Not creating XLA devices, tf_xla_enable_xla_devices not set\n",
      "2021-06-09 19:48:33.010741: I tensorflow/core/common_runtime/gpu/gpu_device.cc:1747] Found device 0 with properties: \n",
      "pciBusID: 0000:07:00.0 name: Tesla V100-DGXS-16GB computeCapability: 7.0\n",
      "coreClock: 1.53GHz coreCount: 80 deviceMemorySize: 15.78GiB deviceMemoryBandwidth: 836.37GiB/s\n",
      "2021-06-09 19:48:33.011970: I tensorflow/core/common_runtime/gpu/gpu_device.cc:1747] Found device 1 with properties: \n",
      "pciBusID: 0000:08:00.0 name: Tesla V100-DGXS-16GB computeCapability: 7.0\n",
      "coreClock: 1.53GHz coreCount: 80 deviceMemorySize: 15.78GiB deviceMemoryBandwidth: 836.37GiB/s\n",
      "2021-06-09 19:48:33.013195: I tensorflow/core/common_runtime/gpu/gpu_device.cc:1747] Found device 2 with properties: \n",
      "pciBusID: 0000:0e:00.0 name: Tesla V100-DGXS-16GB computeCapability: 7.0\n",
      "coreClock: 1.53GHz coreCount: 80 deviceMemorySize: 15.78GiB deviceMemoryBandwidth: 836.37GiB/s\n",
      "2021-06-09 19:48:33.014389: I tensorflow/core/common_runtime/gpu/gpu_device.cc:1747] Found device 3 with properties: \n",
      "pciBusID: 0000:0f:00.0 name: Tesla V100-DGXS-16GB computeCapability: 7.0\n",
      "coreClock: 1.53GHz coreCount: 80 deviceMemorySize: 15.78GiB deviceMemoryBandwidth: 836.37GiB/s\n",
      "2021-06-09 19:48:33.014428: I tensorflow/stream_executor/platform/default/dso_loader.cc:49] Successfully opened dynamic library libcudart.so.11.0\n",
      "2021-06-09 19:48:33.014458: I tensorflow/stream_executor/platform/default/dso_loader.cc:49] Successfully opened dynamic library libcublas.so.11\n",
      "2021-06-09 19:48:33.014478: I tensorflow/stream_executor/platform/default/dso_loader.cc:49] Successfully opened dynamic library libcublasLt.so.11\n",
      "2021-06-09 19:48:33.014497: I tensorflow/stream_executor/platform/default/dso_loader.cc:49] Successfully opened dynamic library libcufft.so.10\n",
      "2021-06-09 19:48:33.014516: I tensorflow/stream_executor/platform/default/dso_loader.cc:49] Successfully opened dynamic library libcurand.so.10\n",
      "2021-06-09 19:48:33.014534: I tensorflow/stream_executor/platform/default/dso_loader.cc:49] Successfully opened dynamic library libcusolver.so.11\n",
      "2021-06-09 19:48:33.014552: I tensorflow/stream_executor/platform/default/dso_loader.cc:49] Successfully opened dynamic library libcusparse.so.11\n",
      "2021-06-09 19:48:33.014571: I tensorflow/stream_executor/platform/default/dso_loader.cc:49] Successfully opened dynamic library libcudnn.so.8\n",
      "2021-06-09 19:48:33.022970: I tensorflow/core/common_runtime/gpu/gpu_device.cc:1889] Adding visible gpu devices: 0, 1, 2, 3\n",
      "2021-06-09 19:48:33.023016: I tensorflow/stream_executor/platform/default/dso_loader.cc:49] Successfully opened dynamic library libcudart.so.11.0\n",
      "2021-06-09 19:48:35.609734: I tensorflow/core/common_runtime/gpu/gpu_device.cc:1287] Device interconnect StreamExecutor with strength 1 edge matrix:\n",
      "2021-06-09 19:48:35.609783: I tensorflow/core/common_runtime/gpu/gpu_device.cc:1293]      0 1 2 3 \n",
      "2021-06-09 19:48:35.609797: I tensorflow/core/common_runtime/gpu/gpu_device.cc:1306] 0:   N Y Y Y \n",
      "2021-06-09 19:48:35.609806: I tensorflow/core/common_runtime/gpu/gpu_device.cc:1306] 1:   Y N Y Y \n",
      "2021-06-09 19:48:35.609816: I tensorflow/core/common_runtime/gpu/gpu_device.cc:1306] 2:   Y Y N Y \n",
      "2021-06-09 19:48:35.609825: I tensorflow/core/common_runtime/gpu/gpu_device.cc:1306] 3:   Y Y Y N \n",
      "2021-06-09 19:48:35.619000: I tensorflow/core/common_runtime/gpu/gpu_device.cc:1432] Created TensorFlow device (/job:localhost/replica:0/task:0/device:GPU:0 with 203 MB memory) -> physical GPU (device: 0, name: Tesla V100-DGXS-16GB, pci bus id: 0000:07:00.0, compute capability: 7.0)\n",
      "2021-06-09 19:48:35.620513: I tensorflow/core/common_runtime/gpu/gpu_device.cc:1432] Created TensorFlow device (/job:localhost/replica:0/task:0/device:GPU:1 with 14206 MB memory) -> physical GPU (device: 1, name: Tesla V100-DGXS-16GB, pci bus id: 0000:08:00.0, compute capability: 7.0)\n",
      "2021-06-09 19:48:35.621962: I tensorflow/core/common_runtime/gpu/gpu_device.cc:1432] Created TensorFlow device (/job:localhost/replica:0/task:0/device:GPU:2 with 14206 MB memory) -> physical GPU (device: 2, name: Tesla V100-DGXS-16GB, pci bus id: 0000:0e:00.0, compute capability: 7.0)\n",
      "2021-06-09 19:48:35.623398: I tensorflow/core/common_runtime/gpu/gpu_device.cc:1432] Created TensorFlow device (/job:localhost/replica:0/task:0/device:GPU:3 with 14206 MB memory) -> physical GPU (device: 3, name: Tesla V100-DGXS-16GB, pci bus id: 0000:0f:00.0, compute capability: 7.0)\n",
      "2021-06-09 19:48:35,625 - WARNING - '--tag' not specified for saved_model. Using --tag serve\n",
      "2021-06-09 19:48:43,221 - INFO - Signatures found in model: [serving_default].\n",
      "2021-06-09 19:48:43,221 - WARNING - '--signature_def' not specified, using first signature: serving_default\n",
      "2021-06-09 19:48:43,222 - INFO - Output names: ['predictions']\n",
      "2021-06-09 19:48:43.250962: I tensorflow/core/grappler/devices.cc:69] Number of eligible GPUs (core count >= 8, compute capability >= 0.0): 4\n",
      "2021-06-09 19:48:43.251124: I tensorflow/core/grappler/clusters/single_machine.cc:356] Starting new session\n",
      "2021-06-09 19:48:43.251388: I tensorflow/compiler/jit/xla_gpu_device.cc:99] Not creating XLA devices, tf_xla_enable_xla_devices not set\n",
      "2021-06-09 19:48:43.252059: I tensorflow/core/common_runtime/gpu/gpu_device.cc:1747] Found device 0 with properties: \n",
      "pciBusID: 0000:07:00.0 name: Tesla V100-DGXS-16GB computeCapability: 7.0\n",
      "coreClock: 1.53GHz coreCount: 80 deviceMemorySize: 15.78GiB deviceMemoryBandwidth: 836.37GiB/s\n",
      "2021-06-09 19:48:43.253259: I tensorflow/core/common_runtime/gpu/gpu_device.cc:1747] Found device 1 with properties: \n",
      "pciBusID: 0000:08:00.0 name: Tesla V100-DGXS-16GB computeCapability: 7.0\n",
      "coreClock: 1.53GHz coreCount: 80 deviceMemorySize: 15.78GiB deviceMemoryBandwidth: 836.37GiB/s\n",
      "2021-06-09 19:48:43.254444: I tensorflow/core/common_runtime/gpu/gpu_device.cc:1747] Found device 2 with properties: \n",
      "pciBusID: 0000:0e:00.0 name: Tesla V100-DGXS-16GB computeCapability: 7.0\n",
      "coreClock: 1.53GHz coreCount: 80 deviceMemorySize: 15.78GiB deviceMemoryBandwidth: 836.37GiB/s\n",
      "2021-06-09 19:48:43.255627: I tensorflow/core/common_runtime/gpu/gpu_device.cc:1747] Found device 3 with properties: \n",
      "pciBusID: 0000:0f:00.0 name: Tesla V100-DGXS-16GB computeCapability: 7.0\n",
      "coreClock: 1.53GHz coreCount: 80 deviceMemorySize: 15.78GiB deviceMemoryBandwidth: 836.37GiB/s\n",
      "2021-06-09 19:48:43.255663: I tensorflow/stream_executor/platform/default/dso_loader.cc:49] Successfully opened dynamic library libcudart.so.11.0\n",
      "2021-06-09 19:48:43.255693: I tensorflow/stream_executor/platform/default/dso_loader.cc:49] Successfully opened dynamic library libcublas.so.11\n",
      "2021-06-09 19:48:43.255712: I tensorflow/stream_executor/platform/default/dso_loader.cc:49] Successfully opened dynamic library libcublasLt.so.11\n",
      "2021-06-09 19:48:43.255730: I tensorflow/stream_executor/platform/default/dso_loader.cc:49] Successfully opened dynamic library libcufft.so.10\n",
      "2021-06-09 19:48:43.255748: I tensorflow/stream_executor/platform/default/dso_loader.cc:49] Successfully opened dynamic library libcurand.so.10\n",
      "2021-06-09 19:48:43.255765: I tensorflow/stream_executor/platform/default/dso_loader.cc:49] Successfully opened dynamic library libcusolver.so.11\n",
      "2021-06-09 19:48:43.255783: I tensorflow/stream_executor/platform/default/dso_loader.cc:49] Successfully opened dynamic library libcusparse.so.11\n",
      "2021-06-09 19:48:43.255801: I tensorflow/stream_executor/platform/default/dso_loader.cc:49] Successfully opened dynamic library libcudnn.so.8\n",
      "2021-06-09 19:48:43.264001: I tensorflow/core/common_runtime/gpu/gpu_device.cc:1889] Adding visible gpu devices: 0, 1, 2, 3\n",
      "2021-06-09 19:48:43.264071: I tensorflow/core/common_runtime/gpu/gpu_device.cc:1287] Device interconnect StreamExecutor with strength 1 edge matrix:\n",
      "2021-06-09 19:48:43.264086: I tensorflow/core/common_runtime/gpu/gpu_device.cc:1293]      0 1 2 3 \n",
      "2021-06-09 19:48:43.264097: I tensorflow/core/common_runtime/gpu/gpu_device.cc:1306] 0:   N Y Y Y \n",
      "2021-06-09 19:48:43.264106: I tensorflow/core/common_runtime/gpu/gpu_device.cc:1306] 1:   Y N Y Y \n",
      "2021-06-09 19:48:43.264116: I tensorflow/core/common_runtime/gpu/gpu_device.cc:1306] 2:   Y Y N Y \n",
      "2021-06-09 19:48:43.264125: I tensorflow/core/common_runtime/gpu/gpu_device.cc:1306] 3:   Y Y Y N \n",
      "2021-06-09 19:48:43.269085: I tensorflow/core/common_runtime/gpu/gpu_device.cc:1432] Created TensorFlow device (/job:localhost/replica:0/task:0/device:GPU:0 with 203 MB memory) -> physical GPU (device: 0, name: Tesla V100-DGXS-16GB, pci bus id: 0000:07:00.0, compute capability: 7.0)\n",
      "2021-06-09 19:48:43.270297: I tensorflow/core/common_runtime/gpu/gpu_device.cc:1432] Created TensorFlow device (/job:localhost/replica:0/task:0/device:GPU:1 with 14206 MB memory) -> physical GPU (device: 1, name: Tesla V100-DGXS-16GB, pci bus id: 0000:08:00.0, compute capability: 7.0)\n",
      "2021-06-09 19:48:43.271732: I tensorflow/core/common_runtime/gpu/gpu_device.cc:1432] Created TensorFlow device (/job:localhost/replica:0/task:0/device:GPU:2 with 14206 MB memory) -> physical GPU (device: 2, name: Tesla V100-DGXS-16GB, pci bus id: 0000:0e:00.0, compute capability: 7.0)\n",
      "2021-06-09 19:48:43.273448: I tensorflow/core/common_runtime/gpu/gpu_device.cc:1432] Created TensorFlow device (/job:localhost/replica:0/task:0/device:GPU:3 with 14206 MB memory) -> physical GPU (device: 3, name: Tesla V100-DGXS-16GB, pci bus id: 0000:0f:00.0, compute capability: 7.0)\n",
      "2021-06-09 19:48:43.293134: I tensorflow/core/platform/profile_utils/cpu_utils.cc:112] CPU Frequency: 2198860000 Hz\n",
      "2021-06-09 19:48:43.355209: I tensorflow/core/grappler/optimizers/meta_optimizer.cc:954] Optimization results for grappler item: graph_to_optimize\n",
      "  function_optimizer: Graph size after: 1253 nodes (930), 1908 edges (1585), time = 33.193ms.\n",
      "  function_optimizer: function_optimizer did nothing. time = 0.577ms.\n",
      "\n",
      "2021-06-09 19:48:46.008484: I tensorflow/compiler/jit/xla_gpu_device.cc:99] Not creating XLA devices, tf_xla_enable_xla_devices not set\n",
      "2021-06-09 19:48:46.031017: I tensorflow/core/common_runtime/gpu/gpu_device.cc:1747] Found device 0 with properties: \n",
      "pciBusID: 0000:07:00.0 name: Tesla V100-DGXS-16GB computeCapability: 7.0\n",
      "coreClock: 1.53GHz coreCount: 80 deviceMemorySize: 15.78GiB deviceMemoryBandwidth: 836.37GiB/s\n",
      "2021-06-09 19:48:46.033674: I tensorflow/core/common_runtime/gpu/gpu_device.cc:1747] Found device 1 with properties: \n",
      "pciBusID: 0000:08:00.0 name: Tesla V100-DGXS-16GB computeCapability: 7.0\n",
      "coreClock: 1.53GHz coreCount: 80 deviceMemorySize: 15.78GiB deviceMemoryBandwidth: 836.37GiB/s\n",
      "2021-06-09 19:48:46.035311: I tensorflow/core/common_runtime/gpu/gpu_device.cc:1747] Found device 2 with properties: \n",
      "pciBusID: 0000:0e:00.0 name: Tesla V100-DGXS-16GB computeCapability: 7.0\n",
      "coreClock: 1.53GHz coreCount: 80 deviceMemorySize: 15.78GiB deviceMemoryBandwidth: 836.37GiB/s\n",
      "2021-06-09 19:48:46.036940: I tensorflow/core/common_runtime/gpu/gpu_device.cc:1747] Found device 3 with properties: \n",
      "pciBusID: 0000:0f:00.0 name: Tesla V100-DGXS-16GB computeCapability: 7.0\n",
      "coreClock: 1.53GHz coreCount: 80 deviceMemorySize: 15.78GiB deviceMemoryBandwidth: 836.37GiB/s\n",
      "2021-06-09 19:48:46.036986: I tensorflow/stream_executor/platform/default/dso_loader.cc:49] Successfully opened dynamic library libcudart.so.11.0\n",
      "2021-06-09 19:48:46.037035: I tensorflow/stream_executor/platform/default/dso_loader.cc:49] Successfully opened dynamic library libcublas.so.11\n",
      "2021-06-09 19:48:46.037062: I tensorflow/stream_executor/platform/default/dso_loader.cc:49] Successfully opened dynamic library libcublasLt.so.11\n",
      "2021-06-09 19:48:46.037086: I tensorflow/stream_executor/platform/default/dso_loader.cc:49] Successfully opened dynamic library libcufft.so.10\n",
      "2021-06-09 19:48:46.037110: I tensorflow/stream_executor/platform/default/dso_loader.cc:49] Successfully opened dynamic library libcurand.so.10\n",
      "2021-06-09 19:48:46.037133: I tensorflow/stream_executor/platform/default/dso_loader.cc:49] Successfully opened dynamic library libcusolver.so.11\n",
      "2021-06-09 19:48:46.037157: I tensorflow/stream_executor/platform/default/dso_loader.cc:49] Successfully opened dynamic library libcusparse.so.11\n",
      "2021-06-09 19:48:46.037181: I tensorflow/stream_executor/platform/default/dso_loader.cc:49] Successfully opened dynamic library libcudnn.so.8\n",
      "2021-06-09 19:48:46.046998: I tensorflow/core/common_runtime/gpu/gpu_device.cc:1889] Adding visible gpu devices: 0, 1, 2, 3\n",
      "2021-06-09 19:48:46.047077: I tensorflow/core/common_runtime/gpu/gpu_device.cc:1287] Device interconnect StreamExecutor with strength 1 edge matrix:\n",
      "2021-06-09 19:48:46.047095: I tensorflow/core/common_runtime/gpu/gpu_device.cc:1293]      0 1 2 3 \n",
      "2021-06-09 19:48:46.047108: I tensorflow/core/common_runtime/gpu/gpu_device.cc:1306] 0:   N Y Y Y \n",
      "2021-06-09 19:48:46.047120: I tensorflow/core/common_runtime/gpu/gpu_device.cc:1306] 1:   Y N Y Y \n",
      "2021-06-09 19:48:46.047131: I tensorflow/core/common_runtime/gpu/gpu_device.cc:1306] 2:   Y Y N Y \n",
      "2021-06-09 19:48:46.047142: I tensorflow/core/common_runtime/gpu/gpu_device.cc:1306] 3:   Y Y Y N \n",
      "2021-06-09 19:48:46.052418: I tensorflow/core/common_runtime/gpu/gpu_device.cc:1432] Created TensorFlow device (/job:localhost/replica:0/task:0/device:GPU:0 with 203 MB memory) -> physical GPU (device: 0, name: Tesla V100-DGXS-16GB, pci bus id: 0000:07:00.0, compute capability: 7.0)\n",
      "2021-06-09 19:48:46.053664: I tensorflow/core/common_runtime/gpu/gpu_device.cc:1432] Created TensorFlow device (/job:localhost/replica:0/task:0/device:GPU:1 with 14206 MB memory) -> physical GPU (device: 1, name: Tesla V100-DGXS-16GB, pci bus id: 0000:08:00.0, compute capability: 7.0)\n",
      "2021-06-09 19:48:46.054881: I tensorflow/core/common_runtime/gpu/gpu_device.cc:1432] Created TensorFlow device (/job:localhost/replica:0/task:0/device:GPU:2 with 14206 MB memory) -> physical GPU (device: 2, name: Tesla V100-DGXS-16GB, pci bus id: 0000:0e:00.0, compute capability: 7.0)\n",
      "2021-06-09 19:48:46.056098: I tensorflow/core/common_runtime/gpu/gpu_device.cc:1432] Created TensorFlow device (/job:localhost/replica:0/task:0/device:GPU:3 with 14206 MB memory) -> physical GPU (device: 3, name: Tesla V100-DGXS-16GB, pci bus id: 0000:0f:00.0, compute capability: 7.0)\n",
      "WARNING:tensorflow:From /usr/local/lib/python3.8/dist-packages/tf2onnx/tf_loader.py:603: extract_sub_graph (from tensorflow.python.framework.graph_util_impl) is deprecated and will be removed in a future version.\n",
      "Instructions for updating:\n",
      "Use `tf.compat.v1.graph_util.extract_sub_graph`\n",
      "2021-06-09 19:48:46,541 - WARNING - From /usr/local/lib/python3.8/dist-packages/tf2onnx/tf_loader.py:603: extract_sub_graph (from tensorflow.python.framework.graph_util_impl) is deprecated and will be removed in a future version.\n",
      "Instructions for updating:\n",
      "Use `tf.compat.v1.graph_util.extract_sub_graph`\n",
      "2021-06-09 19:48:46.600644: I tensorflow/core/grappler/devices.cc:69] Number of eligible GPUs (core count >= 8, compute capability >= 0.0): 4\n",
      "2021-06-09 19:48:46.600797: I tensorflow/core/grappler/clusters/single_machine.cc:356] Starting new session\n",
      "2021-06-09 19:48:46.601148: I tensorflow/compiler/jit/xla_gpu_device.cc:99] Not creating XLA devices, tf_xla_enable_xla_devices not set\n",
      "2021-06-09 19:48:46.602435: I tensorflow/core/common_runtime/gpu/gpu_device.cc:1747] Found device 0 with properties: \n",
      "pciBusID: 0000:07:00.0 name: Tesla V100-DGXS-16GB computeCapability: 7.0\n",
      "coreClock: 1.53GHz coreCount: 80 deviceMemorySize: 15.78GiB deviceMemoryBandwidth: 836.37GiB/s\n",
      "2021-06-09 19:48:46.604322: I tensorflow/core/common_runtime/gpu/gpu_device.cc:1747] Found device 1 with properties: \n",
      "pciBusID: 0000:08:00.0 name: Tesla V100-DGXS-16GB computeCapability: 7.0\n",
      "coreClock: 1.53GHz coreCount: 80 deviceMemorySize: 15.78GiB deviceMemoryBandwidth: 836.37GiB/s\n",
      "2021-06-09 19:48:46.606193: I tensorflow/core/common_runtime/gpu/gpu_device.cc:1747] Found device 2 with properties: \n",
      "pciBusID: 0000:0e:00.0 name: Tesla V100-DGXS-16GB computeCapability: 7.0\n",
      "coreClock: 1.53GHz coreCount: 80 deviceMemorySize: 15.78GiB deviceMemoryBandwidth: 836.37GiB/s\n",
      "2021-06-09 19:48:46.608049: I tensorflow/core/common_runtime/gpu/gpu_device.cc:1747] Found device 3 with properties: \n",
      "pciBusID: 0000:0f:00.0 name: Tesla V100-DGXS-16GB computeCapability: 7.0\n",
      "coreClock: 1.53GHz coreCount: 80 deviceMemorySize: 15.78GiB deviceMemoryBandwidth: 836.37GiB/s\n",
      "2021-06-09 19:48:46.608091: I tensorflow/stream_executor/platform/default/dso_loader.cc:49] Successfully opened dynamic library libcudart.so.11.0\n",
      "2021-06-09 19:48:46.608129: I tensorflow/stream_executor/platform/default/dso_loader.cc:49] Successfully opened dynamic library libcublas.so.11\n",
      "2021-06-09 19:48:46.608153: I tensorflow/stream_executor/platform/default/dso_loader.cc:49] Successfully opened dynamic library libcublasLt.so.11\n",
      "2021-06-09 19:48:46.608176: I tensorflow/stream_executor/platform/default/dso_loader.cc:49] Successfully opened dynamic library libcufft.so.10\n",
      "2021-06-09 19:48:46.608198: I tensorflow/stream_executor/platform/default/dso_loader.cc:49] Successfully opened dynamic library libcurand.so.10\n",
      "2021-06-09 19:48:46.608220: I tensorflow/stream_executor/platform/default/dso_loader.cc:49] Successfully opened dynamic library libcusolver.so.11\n",
      "2021-06-09 19:48:46.608242: I tensorflow/stream_executor/platform/default/dso_loader.cc:49] Successfully opened dynamic library libcusparse.so.11\n",
      "2021-06-09 19:48:46.608265: I tensorflow/stream_executor/platform/default/dso_loader.cc:49] Successfully opened dynamic library libcudnn.so.8\n",
      "2021-06-09 19:48:46.625482: I tensorflow/core/common_runtime/gpu/gpu_device.cc:1889] Adding visible gpu devices: 0, 1, 2, 3\n",
      "2021-06-09 19:48:46.625560: I tensorflow/core/common_runtime/gpu/gpu_device.cc:1287] Device interconnect StreamExecutor with strength 1 edge matrix:\n",
      "2021-06-09 19:48:46.625578: I tensorflow/core/common_runtime/gpu/gpu_device.cc:1293]      0 1 2 3 \n",
      "2021-06-09 19:48:46.625590: I tensorflow/core/common_runtime/gpu/gpu_device.cc:1306] 0:   N Y Y Y \n",
      "2021-06-09 19:48:46.625601: I tensorflow/core/common_runtime/gpu/gpu_device.cc:1306] 1:   Y N Y Y \n",
      "2021-06-09 19:48:46.625612: I tensorflow/core/common_runtime/gpu/gpu_device.cc:1306] 2:   Y Y N Y \n",
      "2021-06-09 19:48:46.625623: I tensorflow/core/common_runtime/gpu/gpu_device.cc:1306] 3:   Y Y Y N \n",
      "2021-06-09 19:48:46.634557: I tensorflow/core/common_runtime/gpu/gpu_device.cc:1432] Created TensorFlow device (/job:localhost/replica:0/task:0/device:GPU:0 with 203 MB memory) -> physical GPU (device: 0, name: Tesla V100-DGXS-16GB, pci bus id: 0000:07:00.0, compute capability: 7.0)\n",
      "2021-06-09 19:48:46.636578: I tensorflow/core/common_runtime/gpu/gpu_device.cc:1432] Created TensorFlow device (/job:localhost/replica:0/task:0/device:GPU:1 with 14206 MB memory) -> physical GPU (device: 1, name: Tesla V100-DGXS-16GB, pci bus id: 0000:08:00.0, compute capability: 7.0)\n",
      "2021-06-09 19:48:46.638422: I tensorflow/core/common_runtime/gpu/gpu_device.cc:1432] Created TensorFlow device (/job:localhost/replica:0/task:0/device:GPU:2 with 14206 MB memory) -> physical GPU (device: 2, name: Tesla V100-DGXS-16GB, pci bus id: 0000:0e:00.0, compute capability: 7.0)\n",
      "2021-06-09 19:48:46.640290: I tensorflow/core/common_runtime/gpu/gpu_device.cc:1432] Created TensorFlow device (/job:localhost/replica:0/task:0/device:GPU:3 with 14206 MB memory) -> physical GPU (device: 3, name: Tesla V100-DGXS-16GB, pci bus id: 0000:0f:00.0, compute capability: 7.0)\n",
      "2021-06-09 19:48:47.379855: I tensorflow/core/grappler/optimizers/meta_optimizer.cc:954] Optimization results for grappler item: graph_to_optimize\n",
      "  constant_folding: Graph size after: 560 nodes (-640), 1215 edges (-640), time = 399.986ms.\n",
      "  function_optimizer: function_optimizer did nothing. time = 1.17ms.\n",
      "  constant_folding: Graph size after: 560 nodes (0), 1215 edges (0), time = 101.728ms.\n",
      "  function_optimizer: function_optimizer did nothing. time = 1.017ms.\n",
      "\n",
      "2021-06-09 19:48:47,938 - INFO - Using tensorflow=2.4.0, onnx=1.9.0, tf2onnx=1.8.5/50049d\n",
      "2021-06-09 19:48:47,939 - INFO - Using opset <onnx, 9>\n",
      "2021-06-09 19:48:52,720 - INFO - Computed 0 values for constant folding\n",
      "2021-06-09 19:49:05,218 - INFO - Optimizing ONNX model\n",
      "2021-06-09 19:49:06,920 - INFO - After optimization: Add -1 (18->17), BatchNormalization -53 (53->0), Const -162 (270->108), GlobalAveragePool +1 (0->1), Identity -57 (57->0), ReduceMean -1 (1->0), Squeeze +1 (0->1), Transpose -213 (214->1)\n",
      "2021-06-09 19:49:07,076 - INFO - \n",
      "2021-06-09 19:49:07,076 - INFO - Successfully converted TensorFlow model my_model to ONNX\n",
      "2021-06-09 19:49:07,076 - INFO - Model inputs: ['input_1:0']\n",
      "2021-06-09 19:49:07,076 - INFO - Model outputs: ['predictions']\n",
      "2021-06-09 19:49:07,076 - INFO - ONNX model is saved at temp.onnx\n"
     ]
    }
   ],
   "source": [
    "model.save('my_model')\n",
    "!python -m tf2onnx.convert --saved-model my_model --output temp.onnx\n",
    "onnx_model = onnx.load_model('temp.onnx')\n",
    "\n",
    "# This can also be done with keras2onnx:\n",
    "# onnx_model = keras2onnx.convert_keras(model, model.name)"
   ]
  },
  {
   "cell_type": "markdown",
   "metadata": {},
   "source": [
    "That said, we do need to make one change for our model to work with TensorRT. Keras by default uses a dynamic input shape in its networks - where it can handle arbitrary batch sizes at every update. While TensorRT can do this, it requires extra configuration. \n",
    "\n",
    "Instead, we will just set the input size to be fixed to our batch size. This will work with TensorRT out of the box!"
   ]
  },
  {
   "cell_type": "markdown",
   "metadata": {},
   "source": [
    "__Configure ONNX File Batch Size:__"
   ]
  },
  {
   "cell_type": "markdown",
   "metadata": {},
   "source": [
    "__Note:__ We need to do two things to set our batch size with ONNX. The first is to modify our ONNX file to change its default batch size to our target batch size. The second is setting our converter to use the __explicit batch__ mode, which will use this default batch size as our final batch size."
   ]
  },
  {
   "cell_type": "code",
   "execution_count": 10,
   "metadata": {},
   "outputs": [],
   "source": [
    "inputs = onnx_model.graph.input\n",
    "for input in inputs:\n",
    "    dim1 = input.type.tensor_type.shape.dim[0]\n",
    "    dim1.dim_value = BATCH_SIZE"
   ]
  },
  {
   "cell_type": "markdown",
   "metadata": {},
   "source": [
    "__Save Model:__"
   ]
  },
  {
   "cell_type": "code",
   "execution_count": 11,
   "metadata": {
    "id": "jFT6-13f8qup"
   },
   "outputs": [
    {
     "name": "stdout",
     "output_type": "stream",
     "text": [
      "Done saving!\n"
     ]
    }
   ],
   "source": [
    "model_name = \"resnet50_onnx_model.onnx\"\n",
    "onnx.save_model(onnx_model, model_name)\n",
    "print(\"Done saving!\")"
   ]
  },
  {
   "cell_type": "markdown",
   "metadata": {},
   "source": [
    "Once we get our model into ONNX format, we can convert it efficiently using TensorRT. For this, TensorRT needs exclusive access to your GPU. If you so much as import Tensorflow, it will generally consume all of your GPU memory. To get around this, before moving on go ahead and shut down this notebook and restart it. (You can do this in the menu: Kernel -> Restart Kernel)\n",
    "\n",
    "Make sure not to import Tensorflow at any point after restarting the runtime! \n",
    "\n",
    "(The following cell is a quick shortcut to make your notebook restart:)"
   ]
  },
  {
   "cell_type": "code",
   "execution_count": null,
   "metadata": {
    "id": "uZUnHVHE8quu"
   },
   "outputs": [
    {
     "name": "stdout",
     "output_type": "stream",
     "text": [
      "Restarting kernel  in three seconds...\n"
     ]
    }
   ],
   "source": [
    "import os, time\n",
    "print(\"Restarting kernel  in three seconds...\")\n",
    "time.sleep(3)\n",
    "print(\"Restarting kernel now\")\n",
    "os._exit(0) # Shut down all kernels so TRT doesn't fight with Tensorflow for GPU memory - TF monopolizes all GPU memory by default"
   ]
  },
  {
   "cell_type": "markdown",
   "metadata": {},
   "source": [
    "## 2. What batch size(s) am I running inference at?"
   ]
  },
  {
   "cell_type": "markdown",
   "metadata": {},
   "source": [
    "We have actually already set our inference batch size - see the note above in section 1!\n",
    "\n",
    "We are going to set our target batch size to a fixed size of 32."
   ]
  },
  {
   "cell_type": "code",
   "execution_count": 1,
   "metadata": {},
   "outputs": [],
   "source": [
    "BATCH_SIZE = 32"
   ]
  },
  {
   "cell_type": "markdown",
   "metadata": {},
   "source": [
    "We need to do two things to set our batch size to a fixed batch size with ONNX: \n",
    "\n",
    "1. Modify our ONNX file to change its default batch size to our target batch size, which we did above.\n",
    "2. Use the trtexec --explicitBatch flag, which we also did above."
   ]
  },
  {
   "cell_type": "markdown",
   "metadata": {},
   "source": [
    "## 3. What precision am I running inference at?\n",
    "\n",
    "Now, we have a converted TensorRT engine. Great! That means we are ready to load it into the native Python TensorRT runtime. This runtime strikes a balance between the ease of use of the high level Python runtimes and the low level C++ runtimes.\n",
    "\n",
    "First, as before, lets create a dummy batch. Importantly, by default TensorRT will use the input precision you give it as the default precision for the rest of the network. \n",
    "\n",
    "Remember that lower precisions than FP32 tend to run faster. There are two common reduced precision modes - FP16 and INT8. Graphics cards that are designed to do inference well often have an affinity for one of these two types. This guide was developed on an NVIDIA V100, which favors FP16, so we will use that here by default. INT8 is a more complicated process that requires a calibration step."
   ]
  },
  {
   "cell_type": "code",
   "execution_count": 2,
   "metadata": {},
   "outputs": [],
   "source": [
    "import numpy as np\n",
    "\n",
    "USE_FP16 = True\n",
    "\n",
    "target_dtype = np.float16 if USE_FP16 else np.float32"
   ]
  },
  {
   "cell_type": "markdown",
   "metadata": {},
   "source": [
    "We generate a batch of repeating Golden Retriever images, as before. Make sure that for TensorRT the image is resized to the size your model expects. Tensorflow and TensorRT have different behavior for handling 'oversized' images - so this is a safe way of ensuring consistent results across the two."
   ]
  },
  {
   "cell_type": "code",
   "execution_count": 3,
   "metadata": {},
   "outputs": [],
   "source": [
    "from skimage import io\n",
    "from skimage.transform import resize\n",
    "from matplotlib import pyplot as plt\n",
    "\n",
    "url='https://images.dog.ceo/breeds/retriever-golden/n02099601_3004.jpg'\n",
    "img = resize(io.imread(url), (224, 224))\n",
    "input_batch = 255*np.array(np.repeat(np.expand_dims(np.array(img, dtype=np.float32), axis=0), BATCH_SIZE, axis=0), dtype=np.float32)"
   ]
  },
  {
   "cell_type": "markdown",
   "metadata": {},
   "source": [
    "Only we must now cast the input batch to the proper FP32/FP16 precision:"
   ]
  },
  {
   "cell_type": "code",
   "execution_count": 4,
   "metadata": {},
   "outputs": [],
   "source": [
    "input_batch = input_batch.astype(target_dtype)"
   ]
  },
  {
   "cell_type": "markdown",
   "metadata": {},
   "source": [
    "## 4. What TensorRT path am I using to convert my model?"
   ]
  },
  {
   "cell_type": "markdown",
   "metadata": {},
   "source": [
    "TensorRT is able to take ONNX models and convert them entirely into a single, efficient TensorRT engine. Restart your Jupyter kernel, and then start here!\n",
    "\n",
    "We can use trtexec, a command line tool for working with TensorRT, in order to convert an ONNX model to an engine file.\n",
    "\n",
    "To convert the model we saved in the previous steps, we need to point to the ONNX file, give trtexec a name to save the engine as, and last specify that we want to use a fixed batch size instead of a dynamic one.\n",
    "\n",
    "__Remember to shut down all Jupyter notebooks and restart your Jupyter kernel after \"1. What format should I save my model in?\" - otherwise this cell will crash as TensorRT competes with Tensorflow for GPU memory:__"
   ]
  },
  {
   "cell_type": "code",
   "execution_count": 5,
   "metadata": {
    "colab": {
     "base_uri": "https://localhost:8080/",
     "height": 34
    },
    "id": "h60Gmotx8quz",
    "outputId": "065384aa-c848-4194-c72c-cad0d80449ca"
   },
   "outputs": [
    {
     "name": "stdout",
     "output_type": "stream",
     "text": [
      "&&&& RUNNING TensorRT.trtexec # trtexec --onnx=resnet50_onnx_model.onnx --saveEngine=resnet_engine.trt --explicitBatch --inputIOFormats=fp16:chw --outputIOFormats=fp16:chw --fp16\n",
      "[06/09/2021-19:49:25] [I] === Model Options ===\n",
      "[06/09/2021-19:49:25] [I] Format: ONNX\n",
      "[06/09/2021-19:49:25] [I] Model: resnet50_onnx_model.onnx\n",
      "[06/09/2021-19:49:25] [I] Output:\n",
      "[06/09/2021-19:49:25] [I] === Build Options ===\n",
      "[06/09/2021-19:49:25] [I] Max batch: explicit\n",
      "[06/09/2021-19:49:25] [I] Workspace: 16 MiB\n",
      "[06/09/2021-19:49:25] [I] minTiming: 1\n",
      "[06/09/2021-19:49:25] [I] avgTiming: 8\n",
      "[06/09/2021-19:49:25] [I] Precision: FP32+FP16\n",
      "[06/09/2021-19:49:25] [I] Calibration: \n",
      "[06/09/2021-19:49:25] [I] Refit: Disabled\n",
      "[06/09/2021-19:49:25] [I] Safe mode: Disabled\n",
      "[06/09/2021-19:49:25] [I] Save engine: resnet_engine.trt\n",
      "[06/09/2021-19:49:25] [I] Load engine: \n",
      "[06/09/2021-19:49:25] [I] Builder Cache: Enabled\n",
      "[06/09/2021-19:49:25] [I] NVTX verbosity: 0\n",
      "[06/09/2021-19:49:25] [I] Tactic sources: Using default tactic sources\n",
      "[06/09/2021-19:49:25] [I] Input(s): fp16:chw\n",
      "[06/09/2021-19:49:25] [I] Output(s): fp16:chw\n",
      "[06/09/2021-19:49:25] [I] Input build shapes: model\n",
      "[06/09/2021-19:49:25] [I] Input calibration shapes: model\n",
      "[06/09/2021-19:49:25] [I] === System Options ===\n",
      "[06/09/2021-19:49:25] [I] Device: 0\n",
      "[06/09/2021-19:49:25] [I] DLACore: \n",
      "[06/09/2021-19:49:25] [I] Plugins:\n",
      "[06/09/2021-19:49:25] [I] === Inference Options ===\n",
      "[06/09/2021-19:49:25] [I] Batch: Explicit\n",
      "[06/09/2021-19:49:25] [I] Input inference shapes: model\n",
      "[06/09/2021-19:49:25] [I] Iterations: 10\n",
      "[06/09/2021-19:49:25] [I] Duration: 3s (+ 200ms warm up)\n",
      "[06/09/2021-19:49:25] [I] Sleep time: 0ms\n",
      "[06/09/2021-19:49:25] [I] Streams: 1\n",
      "[06/09/2021-19:49:25] [I] ExposeDMA: Disabled\n",
      "[06/09/2021-19:49:25] [I] Data transfers: Enabled\n",
      "[06/09/2021-19:49:25] [I] Spin-wait: Disabled\n",
      "[06/09/2021-19:49:25] [I] Multithreading: Disabled\n",
      "[06/09/2021-19:49:25] [I] CUDA Graph: Disabled\n",
      "[06/09/2021-19:49:25] [I] Separate profiling: Disabled\n",
      "[06/09/2021-19:49:25] [I] Skip inference: Disabled\n",
      "[06/09/2021-19:49:25] [I] Inputs:\n",
      "[06/09/2021-19:49:25] [I] === Reporting Options ===\n",
      "[06/09/2021-19:49:25] [I] Verbose: Disabled\n",
      "[06/09/2021-19:49:25] [I] Averages: 10 inferences\n",
      "[06/09/2021-19:49:25] [I] Percentile: 99\n",
      "[06/09/2021-19:49:25] [I] Dump refittable layers:Disabled\n",
      "[06/09/2021-19:49:25] [I] Dump output: Disabled\n",
      "[06/09/2021-19:49:25] [I] Profile: Disabled\n",
      "[06/09/2021-19:49:25] [I] Export timing to JSON file: \n",
      "[06/09/2021-19:49:25] [I] Export output to JSON file: \n",
      "[06/09/2021-19:49:25] [I] Export profile to JSON file: \n",
      "[06/09/2021-19:49:25] [I] \n",
      "[06/09/2021-19:49:25] [I] === Device Information ===\n",
      "[06/09/2021-19:49:25] [I] Selected Device: Tesla V100-DGXS-16GB\n",
      "[06/09/2021-19:49:25] [I] Compute Capability: 7.0\n",
      "[06/09/2021-19:49:25] [I] SMs: 80\n",
      "[06/09/2021-19:49:25] [I] Compute Clock Rate: 1.53 GHz\n",
      "[06/09/2021-19:49:25] [I] Device Global Memory: 16155 MiB\n",
      "[06/09/2021-19:49:25] [I] Shared Memory per SM: 96 KiB\n",
      "[06/09/2021-19:49:25] [I] Memory Bus Width: 4096 bits (ECC enabled)\n",
      "[06/09/2021-19:49:25] [I] Memory Clock Rate: 0.877 GHz\n",
      "[06/09/2021-19:49:25] [I] \n",
      "[06/09/2021-19:49:42] [I] [TRT] ----------------------------------------------------------------\n",
      "[06/09/2021-19:49:42] [I] [TRT] Input filename:   resnet50_onnx_model.onnx\n",
      "[06/09/2021-19:49:42] [I] [TRT] ONNX IR version:  0.0.4\n",
      "[06/09/2021-19:49:42] [I] [TRT] Opset version:    9\n",
      "[06/09/2021-19:49:42] [I] [TRT] Producer name:    tf2onnx\n",
      "[06/09/2021-19:49:42] [I] [TRT] Producer version: 1.8.5\n",
      "[06/09/2021-19:49:42] [I] [TRT] Domain:           \n",
      "[06/09/2021-19:49:42] [I] [TRT] Model version:    0\n",
      "[06/09/2021-19:49:42] [I] [TRT] Doc string:       \n",
      "[06/09/2021-19:49:42] [I] [TRT] ----------------------------------------------------------------\n",
      "[06/09/2021-19:49:48] [I] [TRT] Some tactics do not have sufficient workspace memory to run. Increasing workspace size may increase performance, please check verbose output.\n",
      "[06/09/2021-19:51:05] [I] [TRT] Detected 1 inputs and 1 output network tensors.\n",
      "[06/09/2021-19:51:06] [I] Engine built in 100.683 sec.\n",
      "[06/09/2021-19:51:06] [I] Starting inference\n",
      "[06/09/2021-19:51:09] [I] Warmup completed 0 queries over 200 ms\n",
      "[06/09/2021-19:51:09] [I] Timing trace has 0 queries over 2.99006 s\n",
      "[06/09/2021-19:51:09] [I] Trace averages of 10 runs:\n",
      "[06/09/2021-19:51:09] [I] Average on 10 runs - GPU latency: 5.48546 ms - Host latency: 6.30948 ms (end to end 10.0032 ms, enqueue 0.539108 ms)\n",
      "[06/09/2021-19:51:09] [I] Average on 10 runs - GPU latency: 5.48946 ms - Host latency: 6.31468 ms (end to end 10.9038 ms, enqueue 0.516052 ms)\n",
      "[06/09/2021-19:51:09] [I] Average on 10 runs - GPU latency: 5.48004 ms - Host latency: 6.3107 ms (end to end 10.8822 ms, enqueue 0.513507 ms)\n",
      "[06/09/2021-19:51:09] [I] Average on 10 runs - GPU latency: 5.49315 ms - Host latency: 6.34006 ms (end to end 10.4643 ms, enqueue 0.512753 ms)\n",
      "[06/09/2021-19:51:09] [I] Average on 10 runs - GPU latency: 5.52059 ms - Host latency: 6.36953 ms (end to end 10.2954 ms, enqueue 0.498505 ms)\n",
      "[06/09/2021-19:51:09] [I] Average on 10 runs - GPU latency: 5.50788 ms - Host latency: 6.3551 ms (end to end 9.11696 ms, enqueue 0.518701 ms)\n",
      "[06/09/2021-19:51:09] [I] Average on 10 runs - GPU latency: 5.49774 ms - Host latency: 6.3454 ms (end to end 10.9278 ms, enqueue 0.495056 ms)\n",
      "[06/09/2021-19:51:09] [I] Average on 10 runs - GPU latency: 5.50585 ms - Host latency: 6.35638 ms (end to end 10.9322 ms, enqueue 0.505725 ms)\n",
      "[06/09/2021-19:51:09] [I] Average on 10 runs - GPU latency: 5.50247 ms - Host latency: 6.35249 ms (end to end 10.5564 ms, enqueue 0.513574 ms)\n",
      "[06/09/2021-19:51:09] [I] Average on 10 runs - GPU latency: 5.51249 ms - Host latency: 6.36059 ms (end to end 9.63242 ms, enqueue 0.498096 ms)\n",
      "[06/09/2021-19:51:09] [I] Average on 10 runs - GPU latency: 5.4911 ms - Host latency: 6.33875 ms (end to end 8.90275 ms, enqueue 0.474237 ms)\n",
      "[06/09/2021-19:51:09] [I] Average on 10 runs - GPU latency: 5.50072 ms - Host latency: 6.34651 ms (end to end 10.4826 ms, enqueue 0.498499 ms)\n",
      "[06/09/2021-19:51:09] [I] Average on 10 runs - GPU latency: 5.49602 ms - Host latency: 6.34083 ms (end to end 10.92 ms, enqueue 0.486401 ms)\n",
      "[06/09/2021-19:51:09] [I] Average on 10 runs - GPU latency: 5.49089 ms - Host latency: 6.3358 ms (end to end 10.8925 ms, enqueue 0.490247 ms)\n",
      "[06/09/2021-19:51:09] [I] Average on 10 runs - GPU latency: 5.48907 ms - Host latency: 6.33452 ms (end to end 10.1912 ms, enqueue 0.482959 ms)\n",
      "[06/09/2021-19:51:09] [I] Average on 10 runs - GPU latency: 5.47534 ms - Host latency: 6.31992 ms (end to end 8.9359 ms, enqueue 0.484119 ms)\n",
      "[06/09/2021-19:51:09] [I] Average on 10 runs - GPU latency: 5.47952 ms - Host latency: 6.32281 ms (end to end 10.4421 ms, enqueue 0.481885 ms)\n",
      "[06/09/2021-19:51:09] [I] Average on 10 runs - GPU latency: 5.48701 ms - Host latency: 6.33408 ms (end to end 10.9013 ms, enqueue 0.491455 ms)\n",
      "[06/09/2021-19:51:09] [I] Average on 10 runs - GPU latency: 5.48179 ms - Host latency: 6.33092 ms (end to end 10.885 ms, enqueue 0.505078 ms)\n",
      "[06/09/2021-19:51:09] [I] Average on 10 runs - GPU latency: 5.48776 ms - Host latency: 6.33756 ms (end to end 10.3106 ms, enqueue 0.494629 ms)\n",
      "[06/09/2021-19:51:09] [I] Average on 10 runs - GPU latency: 5.47145 ms - Host latency: 6.31754 ms (end to end 9.37426 ms, enqueue 0.481995 ms)\n",
      "[06/09/2021-19:51:09] [I] Average on 10 runs - GPU latency: 5.48057 ms - Host latency: 6.32472 ms (end to end 9.55609 ms, enqueue 0.480151 ms)\n",
      "[06/09/2021-19:51:09] [I] Average on 10 runs - GPU latency: 5.48557 ms - Host latency: 6.33252 ms (end to end 10.4543 ms, enqueue 0.486841 ms)\n",
      "[06/09/2021-19:51:09] [I] Average on 10 runs - GPU latency: 5.50972 ms - Host latency: 6.35627 ms (end to end 10.9478 ms, enqueue 0.488062 ms)\n",
      "[06/09/2021-19:51:09] [I] Average on 10 runs - GPU latency: 5.50054 ms - Host latency: 6.34517 ms (end to end 10.0418 ms, enqueue 0.483325 ms)\n",
      "[06/09/2021-19:51:09] [I] Average on 10 runs - GPU latency: 5.48201 ms - Host latency: 6.32832 ms (end to end 9.67512 ms, enqueue 0.481812 ms)\n",
      "[06/09/2021-19:51:09] [I] Average on 10 runs - GPU latency: 5.48279 ms - Host latency: 6.32742 ms (end to end 9.18972 ms, enqueue 0.484082 ms)\n",
      "[06/09/2021-19:51:09] [I] Average on 10 runs - GPU latency: 5.47712 ms - Host latency: 6.32109 ms (end to end 10.879 ms, enqueue 0.482202 ms)\n",
      "[06/09/2021-19:51:09] [I] Average on 10 runs - GPU latency: 5.47788 ms - Host latency: 6.32166 ms (end to end 10.8823 ms, enqueue 0.481006 ms)\n",
      "[06/09/2021-19:51:09] [I] Average on 10 runs - GPU latency: 5.48203 ms - Host latency: 6.32615 ms (end to end 10.6967 ms, enqueue 0.481055 ms)\n",
      "[06/09/2021-19:51:09] [I] Average on 10 runs - GPU latency: 5.46802 ms - Host latency: 6.31384 ms (end to end 9.47229 ms, enqueue 0.477344 ms)\n",
      "[06/09/2021-19:51:09] [I] Average on 10 runs - GPU latency: 5.4967 ms - Host latency: 6.3428 ms (end to end 8.9686 ms, enqueue 0.48147 ms)\n",
      "[06/09/2021-19:51:09] [I] Average on 10 runs - GPU latency: 5.49275 ms - Host latency: 6.33767 ms (end to end 9.57681 ms, enqueue 0.481714 ms)\n",
      "[06/09/2021-19:51:09] [I] Average on 10 runs - GPU latency: 5.52278 ms - Host latency: 6.37007 ms (end to end 10.9759 ms, enqueue 0.493896 ms)\n",
      "[06/09/2021-19:51:09] [I] Average on 10 runs - GPU latency: 5.49238 ms - Host latency: 6.34084 ms (end to end 10.7861 ms, enqueue 0.49917 ms)\n",
      "[06/09/2021-19:51:09] [I] Average on 10 runs - GPU latency: 5.48333 ms - Host latency: 6.33235 ms (end to end 10.4963 ms, enqueue 0.500806 ms)\n",
      "[06/09/2021-19:51:09] [I] Host Latency\n",
      "[06/09/2021-19:51:09] [I] min: 6.28442 ms (end to end 6.327 ms)\n",
      "[06/09/2021-19:51:09] [I] max: 6.66431 ms (end to end 11.2405 ms)\n",
      "[06/09/2021-19:51:09] [I] mean: 6.33588 ms (end to end 10.2251 ms)\n",
      "[06/09/2021-19:51:09] [I] median: 6.33411 ms (end to end 10.8945 ms)\n",
      "[06/09/2021-19:51:09] [I] percentile: 6.38745 ms at 99% (end to end 11.0925 ms at 99%)\n",
      "[06/09/2021-19:51:09] [I] throughput: 0 qps\n",
      "[06/09/2021-19:51:09] [I] walltime: 2.99006 s\n",
      "[06/09/2021-19:51:09] [I] Enqueue Time\n",
      "[06/09/2021-19:51:09] [I] min: 0.413086 ms\n",
      "[06/09/2021-19:51:09] [I] max: 0.796997 ms\n",
      "[06/09/2021-19:51:09] [I] median: 0.486877 ms\n",
      "[06/09/2021-19:51:09] [I] GPU Compute\n",
      "[06/09/2021-19:51:09] [I] min: 5.4425 ms\n",
      "[06/09/2021-19:51:09] [I] max: 5.82251 ms\n",
      "[06/09/2021-19:51:09] [I] mean: 5.49097 ms\n",
      "[06/09/2021-19:51:09] [I] median: 5.48969 ms\n",
      "[06/09/2021-19:51:09] [I] percentile: 5.53986 ms at 99%\n",
      "[06/09/2021-19:51:09] [I] total compute time: 2.00421 s\n",
      "&&&& PASSED TensorRT.trtexec # trtexec --onnx=resnet50_onnx_model.onnx --saveEngine=resnet_engine.trt --explicitBatch --inputIOFormats=fp16:chw --outputIOFormats=fp16:chw --fp16\n"
     ]
    }
   ],
   "source": [
    "# May need to shut down all kernels and restart before this - otherwise you might get cuDNN initialization errors:\n",
    "if USE_FP16:\n",
    "    !trtexec --onnx=resnet50_onnx_model.onnx --saveEngine=resnet_engine.trt  --explicitBatch --inputIOFormats=fp16:chw --outputIOFormats=fp16:chw --fp16\n",
    "else:\n",
    "    !trtexec --onnx=resnet50_onnx_model.onnx --saveEngine=resnet_engine.trt  --explicitBatch"
   ]
  },
  {
   "cell_type": "markdown",
   "metadata": {},
   "source": [
    "\n",
    "-\n",
    "\n",
    "__The trtexec Logs:__\n",
    "\n",
    "Above, trtexec does a lot of things! Some important things to note:\n",
    "\n",
    "__First__, _\"PASSED\"_ is what you want to see in the last line of the log above. We can see our conversion was successful!\n",
    "\n",
    "__Second__, can see the resnet_engine.trt engine file has indeed been successfully created: "
   ]
  },
  {
   "cell_type": "code",
   "execution_count": 6,
   "metadata": {},
   "outputs": [
    {
     "name": "stdout",
     "output_type": "stream",
     "text": [
      "total 508284\n",
      "drwxrwxr-x 8 1000 1000      4096 Jun  9 19:49  .\n",
      "drwxrwxr-x 5 1000 1000      4096 Apr  5 23:28  ..\n",
      "drwxr-xr-x 2 root root      4096 Apr  6 01:13  .ipynb_checkpoints\n",
      "-rw-rw-r-- 1 1000 1000     34748 Jun  9 19:46 '0. Running This Guide.ipynb'\n",
      "-rw-rw-r-- 1 1000 1000    502649 Apr  5 23:28 '1. Introduction.ipynb'\n",
      "-rw-rw-r-- 1 1000 1000     23645 Apr  5 23:28 '2. Using the Tensorflow TensorRT Integration.ipynb'\n",
      "-rw-rw-r-- 1 1000 1000    210995 Jun  9 19:49 '3. Using Tensorflow 2 through ONNX.ipynb'\n",
      "-rw-rw-r-- 1 1000 1000    334050 Jun  9 19:17 '4. Using PyTorch through ONNX.ipynb'\n",
      "-rw-rw-r-- 1 1000 1000      7052 Apr  5 23:28 '5. Understanding TensorRT Runtimes.ipynb'\n",
      "drwxrwxr-x 2 1000 1000      4096 Apr  5 23:28 'Additional Examples'\n",
      "drwxr-xr-x 2 root root      4096 Apr  5 23:28  Getting_Started\n",
      "drwxr-xr-x 2 root root      4096 Apr  6 01:09  __pycache__\n",
      "-rw-rw-r-- 1 1000 1000      4085 Apr  5 23:28  helper.py\n",
      "drwxrwxr-x 2 1000 1000      4096 Apr  5 23:28  images\n",
      "drwxr-xr-x 4 root root      4096 Jun  9 19:48  my_model\n",
      "-rw-rw-r-- 1 1000 1000      3228 Apr  5 23:28  onnx_helper.py\n",
      "-rw-r--r-- 1 root root 102169836 Jun  9 19:49  resnet50_onnx_model.onnx\n",
      "-rw-r--r-- 1 root root 102470353 Apr  6 04:18  resnet50_pytorch.onnx\n",
      "-rw-r--r-- 1 root root  51398352 Jun  9 19:51  resnet_engine.trt\n",
      "-rw-r--r-- 1 root root 161081907 Apr  6 17:38  resnet_engine_pytorch.trt\n",
      "-rw-r--r-- 1 root root 102169844 Jun  9 19:49  temp.onnx\n"
     ]
    }
   ],
   "source": [
    "!ls -la"
   ]
  },
  {
   "cell_type": "markdown",
   "metadata": {},
   "source": [
    "__Third__, you can see timing details above using trtexec - these are in the ideal case with no overhead. Depending on how you run your model, a considerable amount of overhead can be added to this. We can do timing in our Python runtime below - but keep in mind performing C++ inference would likely be faster."
   ]
  },
  {
   "cell_type": "markdown",
   "metadata": {},
   "source": [
    "## 5. What TensorRT runtime am I targeting?"
   ]
  },
  {
   "cell_type": "markdown",
   "metadata": {},
   "source": [
    "We want to run our TensorRT inference in Python - so the TensorRT Python API is a great way of testing our model out in Jupyter, and is still quite performant.\n",
    "\n",
    "To use it, we need to do a few steps:\n",
    "\n",
    "__Load our engine into a tensorrt.Runtime:__"
   ]
  },
  {
   "cell_type": "code",
   "execution_count": 7,
   "metadata": {
    "id": "dX2jFwrA8qu6"
   },
   "outputs": [],
   "source": [
    "import tensorrt as trt\n",
    "import pycuda.driver as cuda\n",
    "import pycuda.autoinit\n",
    "\n",
    "f = open(\"resnet_engine.trt\", \"rb\")\n",
    "runtime = trt.Runtime(trt.Logger(trt.Logger.WARNING)) \n",
    "\n",
    "engine = runtime.deserialize_cuda_engine(f.read())\n",
    "context = engine.create_execution_context()"
   ]
  },
  {
   "cell_type": "markdown",
   "metadata": {},
   "source": [
    "Note: if this cell is having issues, restarting all Jupyter kernels and rerunning only the batch size and precision cells above before trying again often helps"
   ]
  },
  {
   "cell_type": "markdown",
   "metadata": {},
   "source": [
    "__Allocate input and output memory, give TRT pointers (bindings) to it:__\n",
    "\n",
    "d_input and d_output refer to the memory regions on our 'device' (aka GPU) - as opposed to memory on our normal RAM, where Python holds its variables (such as 'output' below)."
   ]
  },
  {
   "cell_type": "code",
   "execution_count": 8,
   "metadata": {
    "id": "q3UJcdWy8qu8"
   },
   "outputs": [],
   "source": [
    "output = np.empty([BATCH_SIZE, 1000], dtype = target_dtype) # Need to set output dtype to FP16 to enable FP16\n",
    "\n",
    "# Allocate device memory\n",
    "d_input = cuda.mem_alloc(1 * input_batch.nbytes)\n",
    "d_output = cuda.mem_alloc(1 * output.nbytes)\n",
    "\n",
    "bindings = [int(d_input), int(d_output)]\n",
    "\n",
    "stream = cuda.Stream()"
   ]
  },
  {
   "cell_type": "markdown",
   "metadata": {},
   "source": [
    "__Set up prediction function:__\n",
    "\n",
    "This involves a copy from CPU RAM to GPU VRAM, executing the model, then copying the results back from GPU VRAM to CPU RAM:"
   ]
  },
  {
   "cell_type": "code",
   "execution_count": 9,
   "metadata": {
    "id": "6R-F8JtV8qu-"
   },
   "outputs": [],
   "source": [
    "def predict(batch): # result gets copied into output\n",
    "    # Transfer input data to device\n",
    "    cuda.memcpy_htod_async(d_input, batch, stream)\n",
    "    # Execute model\n",
    "    context.execute_async_v2(bindings, stream.handle, None)\n",
    "    # Transfer predictions back\n",
    "    cuda.memcpy_dtoh_async(output, d_output, stream)\n",
    "    # Syncronize threads\n",
    "    stream.synchronize()\n",
    "    \n",
    "    return output"
   ]
  },
  {
   "cell_type": "markdown",
   "metadata": {},
   "source": [
    "This is all we need to run predictions using our TensorRT engine in a Python runtime!"
   ]
  },
  {
   "cell_type": "code",
   "execution_count": 10,
   "metadata": {
    "id": "AdKZzW7O8qvB"
   },
   "outputs": [
    {
     "name": "stdout",
     "output_type": "stream",
     "text": [
      "Warming up...\n",
      "Done warming up!\n"
     ]
    }
   ],
   "source": [
    "print(\"Warming up...\")\n",
    "\n",
    "trt_predictions = predict(input_batch).astype(np.float32)\n",
    "\n",
    "print(\"Done warming up!\")"
   ]
  },
  {
   "cell_type": "code",
   "execution_count": 11,
   "metadata": {},
   "outputs": [
    {
     "name": "stdout",
     "output_type": "stream",
     "text": [
      "Class | Probability (out of 1)\n"
     ]
    },
    {
     "data": {
      "text/plain": [
       "[(160, 0.3112793),\n",
       " (169, 0.27026367),\n",
       " (212, 0.17321777),\n",
       " (170, 0.07165527),\n",
       " (207, 0.033843994)]"
      ]
     },
     "execution_count": 11,
     "metadata": {},
     "output_type": "execute_result"
    }
   ],
   "source": [
    "indices = (-trt_predictions[0]).argsort()[:5]\n",
    "print(\"Class | Probability (out of 1)\")\n",
    "list(zip(indices, trt_predictions[0][indices]))"
   ]
  },
  {
   "cell_type": "markdown",
   "metadata": {},
   "source": [
    "Note that we have recovered our same predictions as before!"
   ]
  },
  {
   "cell_type": "markdown",
   "metadata": {},
   "source": [
    "## Performance Comparison:"
   ]
  },
  {
   "cell_type": "markdown",
   "metadata": {},
   "source": [
    "Last, we can see how quickly we can feed a singular batch to TensorRT, which we can compare to our original Tensorflow experiment from earlier."
   ]
  },
  {
   "cell_type": "markdown",
   "metadata": {},
   "source": [
    "We use the %%timeit Jupyter magic again. Note that %%timeit is fairly rough, and for any actual benchmarking better controlled testing is required - preferably outside of Jupyter."
   ]
  },
  {
   "cell_type": "code",
   "execution_count": 12,
   "metadata": {
    "id": "XAtWnCK38qvD"
   },
   "outputs": [
    {
     "name": "stdout",
     "output_type": "stream",
     "text": [
      "6.41 ms ± 846 ns per loop (mean ± std. dev. of 7 runs, 100 loops each)\n"
     ]
    }
   ],
   "source": [
    "%%timeit\n",
    "\n",
    "_ = predict(input_batch) # Check TRT performance"
   ]
  },
  {
   "cell_type": "markdown",
   "metadata": {},
   "source": [
    "## Next Steps:"
   ]
  },
  {
   "cell_type": "markdown",
   "metadata": {},
   "source": [
    "<h4> Profiling </h4>\n",
    "\n",
    "This is a great next step for further optimizing and debugging models you are working on productionizing\n",
    "\n",
    "You can find it here: https://docs.nvidia.com/deeplearning/tensorrt/best-practices/index.html\n",
    "\n",
    "<h4>  TRT Dev Docs </h4>\n",
    "\n",
    "Main documentation page for the ONNX, layer builder, C++, and legacy APIs\n",
    "\n",
    "You can find it here: https://docs.nvidia.com/deeplearning/tensorrt/developer-guide/index.html\n",
    "\n",
    "<h4>  TRT OSS GitHub </h4>\n",
    "\n",
    "Contains OSS TRT components, sample applications, and plugin examples\n",
    "\n",
    "You can find it here: https://github.com/NVIDIA/TensorRT\n",
    "\n",
    "\n",
    "#### TRT Supported Layers:\n",
    "\n",
    "https://github.com/NVIDIA/TensorRT/tree/main/samples/opensource/samplePlugin\n",
    "\n",
    "#### TRT ONNX Plugin Example:\n",
    "\n",
    "https://docs.nvidia.com/deeplearning/tensorrt/support-matrix/index.html#layers-precision-matrix\n"
   ]
  }
 ],
 "metadata": {
  "accelerator": "GPU",
  "colab": {
   "name": "ONNXExample.ipynb",
   "provenance": []
  },
  "kernelspec": {
   "display_name": "Python 3",
   "language": "python",
   "name": "python3"
  },
  "language_info": {
   "codemirror_mode": {
    "name": "ipython",
    "version": 3
   },
   "file_extension": ".py",
   "mimetype": "text/x-python",
   "name": "python",
   "nbconvert_exporter": "python",
   "pygments_lexer": "ipython3",
   "version": "3.8.5"
  }
 },
 "nbformat": 4,
 "nbformat_minor": 4
}
